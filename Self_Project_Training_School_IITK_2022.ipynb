{
  "nbformat": 4,
  "nbformat_minor": 0,
  "metadata": {
    "colab": {
      "provenance": []
    },
    "kernelspec": {
      "name": "python3",
      "display_name": "Python 3"
    },
    "language_info": {
      "name": "python"
    }
  },
  "cells": [
    {
      "cell_type": "markdown",
      "source": [
        "MIMO\n",
        "https://www.dropbox.com/sh/7ml5xw75z5jxuhk/AAAhU0BZWMJMOA0sNh0sMMS9a?dl=0"
      ],
      "metadata": {
        "id": "SSIOs_N3H7DT"
      }
    },
    {
      "cell_type": "markdown",
      "source": [
        "**Name:** Vivek Kumar Bharati, MTech (Communication  Engineering)\n",
        "\n",
        "**Roll no:** 22M1081"
      ],
      "metadata": {
        "id": "tn5AnzUyvud_"
      }
    },
    {
      "cell_type": "code",
      "execution_count": null,
      "metadata": {
        "id": "j6GNYAvfHYLC"
      },
      "outputs": [],
      "source": [
        "# MIMO file\n",
        "import numpy as np\n",
        "import numpy.linalg as nl\n",
        "import numpy.random as nr\n",
        "from scipy.stats import norm\n",
        "from scipy.stats import unitary_group\n",
        "\n",
        "\n",
        "def Dmatrix(K):\n",
        "    var_nr = (10**(8/10))**2; mean_nr = 3;\n",
        "    mu_nr = np.log10(mean_nr**2/np.sqrt(var_nr+mean_nr**2));\n",
        "    sigma_nr = np.sqrt(np.log10(var_nr/(mean_nr**2+1)));\n",
        "    nr = np.random.lognormal(mu_nr,sigma_nr,K);\n",
        "    dr = np.random.randint(100,1000,K)/100;\n",
        "    beta = nr/dr**3.0;\n",
        "    return beta;\n",
        "\n",
        "def DFTmat(K):\n",
        "    kx, lx = np.meshgrid(np.arange(K), np.arange(K))\n",
        "    omega = np.exp(-2*np.pi*1j/K)\n",
        "    dftmtx = np.power(omega,kx*lx)\n",
        "    return dftmtx\n",
        "\n",
        "def Q(x):\n",
        "    return 1-norm.cdf(x);\n",
        "\n",
        "def QPSK(m,n):\n",
        "    return ((2*nr.randint(2,size=(m,n))-1)+1j*(2*nr.randint(2,size=(m,n))-1))/np.sqrt(2);\n",
        "\n",
        "def H(G):\n",
        "    return np.conj(np.transpose(G));\n",
        "\n",
        "def ArrayDictionary(G,t):\n",
        "    lxx = 2/G*np.arange(G)-1;\n",
        "    lx, kx = np.meshgrid(lxx, np.arange(t));\n",
        "    omega = np.exp(-1j*np.pi);\n",
        "    dmtx = 1/np.sqrt(t)*np.power(omega,kx*lx);\n",
        "    return dmtx;\n",
        "\n",
        "def RF_BB_matrices(numAnt,numRF,N_Beam):\n",
        "    NBlk = numAnt/numRF;\n",
        "    RFmat = 1/np.sqrt(numAnt)*DFTmat(numAnt);\n",
        "    U = unitary_group.rvs(numRF);\n",
        "    V = unitary_group.rvs(int(N_Beam/NBlk));\n",
        "    CenterMat = np.concatenate((np.identity(int(N_Beam/NBlk)),\n",
        "                                np.zeros((int(numRF-N_Beam/NBlk),int(N_Beam/NBlk)))),axis=0);\n",
        "    BB_diag = nl.multi_dot([U,CenterMat,H(V)]);\n",
        "    BBmat = np.kron(np.identity(int(NBlk)),BB_diag);\n",
        "    return RFmat, BBmat\n",
        "\n",
        "def OMP(y,Q,thrld):\n",
        "    [rq,cq] = Q.shape;\n",
        "    set_I = np.zeros(cq);\n",
        "    r_prev = np.zeros((rq,1));\n",
        "    hb_omp = np.zeros((cq,1)) + np.zeros((cq,1))*1j;\n",
        "    r_curr = y;\n",
        "    Qa = np.zeros((rq,cq))+ np.zeros((rq,cq))*1j;\n",
        "    ix1 = 0;\n",
        "    while np.absolute(nl.norm(r_prev)**2 - nl.norm(r_curr)**2) > thrld:\n",
        "        m_ind = np.argmax(np.absolute(np.matmul(H(Q),r_curr)));\n",
        "        set_I[ix1] = m_ind;\n",
        "        Qa[:,ix1] = Q[:,m_ind];\n",
        "        hb_ls = np.matmul(nl.pinv(Qa[:,0:ix1+1]),y);\n",
        "        r_prev = r_curr;\n",
        "        r_curr = y - np.matmul(Qa[:,0:ix1+1],hb_ls);\n",
        "        ix1 = ix1 + 1;\n",
        "\n",
        "    set_I_nz = set_I[0:ix1];\n",
        "    hb_omp[set_I_nz.astype(int)] = hb_ls;\n",
        "    return hb_omp\n",
        "\n",
        "def SOMP(Opt, Dict, Ryy, numRF):\n",
        "    rq, cq = np.shape(Dict);\n",
        "    Res = Opt;\n",
        "    RF = np.zeros((rq,numRF))+1j*np.zeros((rq,numRF));\n",
        "    for iter1 in range(numRF):\n",
        "        phi = nl.multi_dot([H(Dict),Ryy,Res]);\n",
        "        phi_phiH = AAH(phi);\n",
        "        m_ind = np.argmax(np.abs(np.diag(phi_phiH)));\n",
        "        RF[:,iter1] = Dict[:,m_ind];\n",
        "        RFc = RF[:,0:iter1+1];\n",
        "        BB = nl.multi_dot([nl.inv(nl.multi_dot([H(RFc),Ryy,RFc])),H(RFc),Ryy,Opt]);\n",
        "        Res = (Opt-np.matmul(RFc,BB))/nl.norm(Opt-np.matmul(RFc,BB));\n",
        "    return  BB, RF\n",
        "\n",
        "\n",
        "def SOMP_Est(y,Qbar,thrld):\n",
        "    rq,cq = np.shape(Qbar);\n",
        "    ry,cy = np.shape(y);\n",
        "    set_I = np.zeros((cq,1));\n",
        "    r_prev = np.zeros((ry,cy))+1j*np.zeros((ry,cy));\n",
        "    hb_OMP = np.zeros((cq,cy))+1j*np.zeros((cq,cy));\n",
        "    r_curr = y;\n",
        "    Q_a = np.zeros((rq,cq))+1j*np.zeros((rq,cq));\n",
        "    ix1 = 0;\n",
        "    while(abs((nl.norm(r_prev,2))**2 - (nl.norm(r_curr,2))**2) > thrld):\n",
        "        psi = nl.multi_dot([H(Qbar),r_curr]);\n",
        "        m_ind = np.argmax(np.abs(np.diag(AAH(psi))));\n",
        "        set_I[ix1] = m_ind;\n",
        "        Q_a[:,ix1] = Qbar[:,m_ind];\n",
        "        Q_c = Q_a[:,0:ix1+1];\n",
        "        Hb_LS = np.matmul(nl.pinv(Q_c),y);\n",
        "        r_prev = r_curr;\n",
        "        r_curr = y - np.matmul(Q_c,Hb_LS);\n",
        "        ix1 = ix1 + 1;\n",
        "    set_I_nz = set_I[0:ix1];\n",
        "    hb_OMP[set_I_nz.astype(int).flatten(),:] = Hb_LS;\n",
        "    return hb_OMP\n",
        "\n",
        "def MSE_time_domain(H,Ht,Fsub,r,t,Nt):\n",
        "    Ht_est = np.zeros((r,t,Nt))+1j*np.zeros((r,t,Nt));\n",
        "    for tx in range(t):\n",
        "        for rx in range(r):\n",
        "            Ht_est[rx,tx,:] = np.matmul(nl.pinv(Fsub),H[rx,tx,:]);\n",
        "    MSE_td = nl.norm(Ht.flatten()-Ht_est.flatten())**2/t/r/Nt;\n",
        "    return MSE_td\n",
        "\n",
        "def SBL(y,Q,sigma_2):\n",
        "    N, M = np.shape(Q);\n",
        "    Gamma = np.identity(M);\n",
        "    for iter in range(50):\n",
        "        Sigma = nl.inv(1/sigma_2*np.matmul(H(Q),Q) + nl.inv(Gamma));\n",
        "        mu = 1/sigma_2*nl.multi_dot([Sigma,H(Q),y]);\n",
        "        Gamma = np.diag(np.diag(Sigma)+np.abs(mu).flatten()**2);\n",
        "    return mu, Gamma\n",
        "\n",
        "\n",
        "\n",
        "def mmWaveMIMOChannelGenerator(A_R,A_T,G,L):\n",
        "    t = A_T.shape[0];\n",
        "    r = A_R.shape[0];\n",
        "    Psi = np.zeros(shape=(t*r,L))+np.zeros(shape=(t*r,L))*1j;\n",
        "    tax = nr.choice(G, L, replace=False);\n",
        "    rax = nr.choice(G, L, replace=False);\n",
        "    alpha = 1/np.sqrt(2)*(nr.normal(0,1,L)+1j*nr.normal(0,1,L));\n",
        "    A_T_genie = A_T[:, tax];\n",
        "    A_R_genie = A_R[:, rax];\n",
        "    for jx in range(L):\n",
        "        Psi[:,jx] = np.kron(np.conj(A_T[:,tax[jx]]),A_R[:,rax[jx]]);\n",
        "    return alpha, Psi, A_R_genie, A_T_genie\n",
        "\n",
        "\n",
        "def mmWaveMIMO_OFDMChannelGenerator(A_R,A_T,L,numTaps):\n",
        "    t,G = np.shape(A_T);\n",
        "    r,G = np.shape(A_R);\n",
        "    Ht = np.zeros((r,t,numTaps)) + 1j*np.zeros((r,t,numTaps));\n",
        "    Psi = np.zeros(shape=(t*r,L))+np.zeros(shape=(t*r,L))*1j;\n",
        "    tax = nr.choice(G, L, replace=False);\n",
        "    rax = nr.choice(G, L, replace=False);\n",
        "    A_T_genie = A_T[:, tax];\n",
        "    A_R_genie = A_R[:, rax];\n",
        "    for jx in range(L):\n",
        "        Psi[:,jx] = np.kron(np.conj(A_T[:,tax[jx]]),A_R[:,rax[jx]]);\n",
        "    for px in range(numTaps):\n",
        "        alpha = 1/np.sqrt(2)*(nr.normal(0,1,L)+1j*nr.normal(0,1,L));\n",
        "        Ht[:,:,px] = np.sqrt(t*r/L)*nl.multi_dot([A_R_genie,np.diag(alpha),H(A_T_genie)])\n",
        "    return Ht, Psi, A_R_genie, A_T_genie\n",
        "\n",
        "\n",
        "\n",
        "def AHA(A):\n",
        "    return np.matmul(H(A),A)\n",
        "\n",
        "def AAH(A):\n",
        "    return np.matmul(A,H(A))\n",
        "\n",
        "def mimo_capacity(Hmat, TXcov, Ncov):\n",
        "    r, c = np.shape(Hmat);\n",
        "    inLD = np.identity(r) + nl.multi_dot([nl.inv(Ncov),Hmat,TXcov,H(Hmat)]);\n",
        "    C = np.log2(nl.det(inLD));\n",
        "    return np.abs(C)\n",
        "\n",
        "\n",
        "def OPT_CAP_MIMO(Heff,SNR):\n",
        "    U, S, V = nl.svd(Heff, full_matrices=False)\n",
        "    t = len(S);\n",
        "    CAP = 0;\n",
        "    while not CAP:\n",
        "        onebylam = (SNR + sum(1/S[0:t]**2))/t;\n",
        "        if  onebylam - 1/S[t-1]**2 >= 0:\n",
        "            optP = onebylam - 1/S[0:t]**2;\n",
        "            CAP = sum(np.log2(1+ S[0:t]**2 * optP));\n",
        "        elif onebylam - 1/S[t-1]**2 < 0:\n",
        "            t = t-1;\n",
        "    return CAP\n",
        "\n",
        "def EQ_CAP_MIMO(Heff,SNR):\n",
        "    U, S, V = nl.svd(Heff, full_matrices=False)\n",
        "    t = len(S);\n",
        "    CAP = sum(np.log2(1+ S[0:t]**2 * SNR/t));\n",
        "    return CAP\n",
        "\n",
        "\n",
        "def MPAM_DECODER(EqSym,M):\n",
        "    DecSym = np.round((EqSym+M-1)/2);\n",
        "    DecSym[np.where(DecSym<0)] = 0;\n",
        "    DecSym[np.where(DecSym>(M-1))] = M-1\n",
        "    return DecSym\n",
        "\n",
        "def MQAM_DECODER(EqSym,M):\n",
        "    sqM = np.int(np.sqrt(M));\n",
        "    DecSym = np.round((EqSym+sqM-1)/2);\n",
        "    DecSym[np.where(DecSym<0)]=0;\n",
        "    DecSym[np.where(DecSym>(sqM-1))]=sqM-1\n",
        "    return DecSym\n",
        "\n",
        "def PHYDAS(L_f,N):\n",
        "    H1=0.971960;\n",
        "    H2=np.sqrt(2)/2;\n",
        "    H3=0.235147;\n",
        "    fh=1+2*(H1+H2+H3);\n",
        "    hef=np.zeros((1,L_f+1));\n",
        "    for i in range(L_f+1):\n",
        "        hef[0,i]=1-2*H1*np.cos(np.pi*i/(2*N))+2*H2*np.cos(np.pi*i/N)-2*H3*np.cos(np.pi*i*3/(2*N));\n",
        "\n",
        "    hef = hef/fh;\n",
        "    p_k = hef/nl.norm(hef);\n",
        "    return(p_k)\n",
        "\n",
        "def UPSAMPLE(H,k):\n",
        "    m = H.shape[0];\n",
        "    n = H.shape[1];\n",
        "    G = np.zeros((int(m*k),n))+1j*np.zeros((int(m*k),n));\n",
        "    for ix in range(m):\n",
        "        G[ix*k,:] = H[ix,:];\n",
        "\n",
        "    return(G)\n",
        "\n",
        "\n",
        "def DOWNSAMPLE(H,k):\n",
        "    m = H.shape[0];\n",
        "    n = H.shape[1];\n",
        "    G = np.zeros((int(m/k),n))+1j*np.zeros((int(m/k),n));\n",
        "    for ix in range(int(m/k)):\n",
        "        G[ix,:] = H[ix*k,:];\n",
        "\n",
        "    return(G)"
      ]
    },
    {
      "cell_type": "markdown",
      "source": [
        "# Project 3: Simulating the MIMO ZF and LMMSE Receivers and plotting the BER for varying SNR"
      ],
      "metadata": {
        "id": "9n8wqNcPILkN"
      }
    },
    {
      "cell_type": "code",
      "source": [
        "# Project 3\n",
        "import numpy as np\n",
        "import matplotlib.pyplot as plt\n",
        "import numpy.random as nr\n",
        "import numpy.linalg as nl\n",
        "from scipy.special import comb\n",
        "import MIMO\n",
        "\n",
        "blockLength = 1000;\n",
        "nBlocks = 10000;\n",
        "r = 2;\n",
        "t = 2;\n",
        "EbdB = np.arange(1.0,33.1,4.0);\n",
        "Eb = 10**(EbdB/10);\n",
        "No = 1;\n",
        "Es = 2*Eb;\n",
        "SNR = Es/No;\n",
        "SNRdB = 10*np.log10(SNR);\n",
        "BER_ZF = np.zeros(len(EbdB));\n",
        "BER_LMMSE = np.zeros(len(EbdB));\n",
        "BERt = np.zeros(len(EbdB));\n",
        "\n",
        "\n",
        "for blk in range(nBlocks):\n",
        "    H = (nr.normal(0.0, 1.0,(r,t)) + 1j*nr.normal(0.0, 1.0,(r,t)))/np.sqrt(2);\n",
        "    noise = nr.normal(0.0, np.sqrt(No/2), (r,blockLength)) + 1j*nr.normal(0.0, np.sqrt(No/2), (r,blockLength));\n",
        "    BitsI = nr.randint(2, size=(t, blockLength));\n",
        "    BitsQ = nr.randint(2, size=(t, blockLength));\n",
        "    Sym = (2*BitsI-1) +1j*(2*BitsQ-1);\n",
        "\n",
        "    for K in range(len(SNRdB)):\n",
        "        TxSym = np.sqrt(Eb[K])*Sym;\n",
        "        RxSym = np.matmul(H,TxSym) + noise;\n",
        "\n",
        "        ZFRx = nl.pinv(H);\n",
        "        ZFout = np.matmul(ZFRx, RxSym);\n",
        "        DecBitsI_ZF = (np.real(ZFout)>0);\n",
        "        DecBitsQ_ZF = (np.imag(ZFout)>0);\n",
        "        BER_ZF[K] = BER_ZF[K] + np.sum(DecBitsI_ZF != BitsI) + np.sum(DecBitsQ_ZF != BitsQ);\n",
        "\n",
        "        LMMSERx = np.matmul(nl.inv(MIMO.AHA(H) + No*np.identity(t)/Es[K]),MIMO.H(H));\n",
        "        LMMSEout = np.matmul(LMMSERx, RxSym);\n",
        "        DecBitsI_LMMSE = (np.real(LMMSEout)>0);\n",
        "        DecBitsQ_LMMSE = (np.imag(LMMSEout)>0);\n",
        "\n",
        "        BER_LMMSE[K] = BER_LMMSE[K] + np.sum(DecBitsI_LMMSE != BitsI) + np.sum(DecBitsQ_LMMSE != BitsQ);\n",
        "\n",
        "\n",
        "BER_ZF = BER_ZF/blockLength/nBlocks/2/t;\n",
        "BER_LMMSE = BER_LMMSE/blockLength/nBlocks/2/t;\n",
        "L=r-t+1;\n",
        "BERt = comb(2*L-1, L)/2**L/SNR**L;\n",
        "\n",
        "plt.yscale('log')\n",
        "plt.plot(SNRdB, BER_ZF,'g-');\n",
        "plt.plot(SNRdB, BER_LMMSE,'b-.s');\n",
        "plt.plot(SNRdB, BERt,'ro');\n",
        "plt.grid(1,which='both')\n",
        "plt.suptitle('BER for MIMO Channel')\n",
        "plt.legend([\"ZF\",\"LMMSE\", \"Theory\"], loc =\"lower left\");\n",
        "plt.xlabel('SNR (dB)')\n",
        "plt.ylabel('BER')\n"
      ],
      "metadata": {
        "colab": {
          "base_uri": "https://localhost:8080/",
          "height": 325
        },
        "id": "6l9X9Gs6IiI5",
        "outputId": "bcc63b04-36c4-4251-d56c-564fdf010851"
      },
      "execution_count": null,
      "outputs": [
        {
          "output_type": "execute_result",
          "data": {
            "text/plain": [
              "Text(0, 0.5, 'BER')"
            ]
          },
          "metadata": {},
          "execution_count": 8
        },
        {
          "output_type": "display_data",
          "data": {
            "text/plain": [
              "<Figure size 432x288 with 1 Axes>"
            ],
            "image/png": "[encoded data removed]"
          },
          "metadata": {
            "needs_background": "light"
          }
        }
      ]
    },
    {
      "cell_type": "markdown",
      "source": [
        "# Project 4: plotting MIMO capacity for equal and optimal power allocation based on Waterfilling"
      ],
      "metadata": {
        "id": "stEHbaA3IvDL"
      }
    },
    {
      "cell_type": "code",
      "source": [
        "import numpy as np\n",
        "import matplotlib.pyplot as plt\n",
        "import numpy.random as nr\n",
        "import MIMO\n",
        "\n",
        "\n",
        "SNRdB = np.arange(-10,10,1);\n",
        "SNR = 10**(SNRdB/10); x`);\n",
        "r = 4;\n",
        "t = 4;\n",
        "\n",
        "\n",
        "\n",
        "for L in range(numBlocks):\n",
        "    H = (nr.normal(0.0, 1.0,(r,t))+1j*nr.normal(0.0, 1.0,(r,t)))/np.sqrt(2)\n",
        "    for kx in range(len(SNRdB)):\n",
        "       Capacity_OPT[kx] = Capacity_OPT[kx] + MIMO.OPT_CAP_MIMO(H, SNR[kx]);\n",
        "       Capacity_EQ[kx] += MIMO.EQ_CAP_MIMO(H, SNR[kx]);\n",
        "\n",
        "\n",
        "\n",
        "Capacity_OPT = Capacity_OPT/numBlocks;\n",
        "Capacity_EQ = Capacity_EQ/numBlocks;\n",
        "\n",
        "\n",
        "plt.plot(SNRdB,Capacity_OPT,'b-s');\n",
        "plt.plot(SNRdB,Capacity_EQ,'r-.o');\n",
        "plt.grid(1,which='both')\n",
        "plt.legend([\"OPT\",\"Equal\"], loc =\"upper left\");\n",
        "plt.suptitle('MIMO Capacity vs SNR(dB)')\n",
        "plt.xlabel('SNR (dB)')\n",
        "plt.ylabel('Capacity (b/s/Hz)')\n",
        "\n"
      ],
      "metadata": {
        "colab": {
          "base_uri": "https://localhost:8080/",
          "height": 325
        },
        "id": "Zvw_0-77Iwkg",
        "outputId": "7bd8d489-031e-4569-82ce-c91592ed8868"
      },
      "execution_count": null,
      "outputs": [
        {
          "output_type": "execute_result",
          "data": {
            "text/plain": [
              "Text(0, 0.5, 'Capacity (b/s/Hz)')"
            ]
          },
          "metadata": {},
          "execution_count": 5
        },
        {
          "output_type": "display_data",
          "data": {
            "text/plain": [
              "<Figure size 432x288 with 1 Axes>"
            ],
            "image/png": "[encoded data removed]"
          },
          "metadata": {
            "needs_background": "light"
          }
        }
      ]
    },
    {
      "cell_type": "markdown",
      "source": [
        "**NOTE:**\n",
        "\n",
        "\n",
        "1.   **Optimal power allocation** based on **Waterfilling** algorithm is the blue colourd curve.\n",
        "2.   Red coloured curve is the MIMO channel capacity when equal power allocation is done.\n",
        "\n"
      ],
      "metadata": {
        "id": "gfmsYevrwyIy"
      }
    },
    {
      "cell_type": "markdown",
      "source": [
        "# Project 7: Plotting the capacity of Massive MIMO channel with and without power scaling"
      ],
      "metadata": {
        "id": "1XNy8CPZQ_Yg"
      }
    },
    {
      "cell_type": "code",
      "source": [
        "import numpy as np\n",
        "import numpy.random as nr\n",
        "import numpy.linalg as nl\n",
        "import matplotlib.pyplot as plt\n",
        "import MIMO\n",
        "\n",
        "ITER = 3000;\n",
        "K = 10; # number of users\n",
        "Mv = np.arange(20,520,30); # number of BS antennas\n",
        "Eu_dB = 10;  Eu = 10**(Eu_dB/10);\n",
        "rate_MRC = np.zeros(len(Mv)) ;\n",
        "bound_MRC = np.zeros(len(Mv));\n",
        "rate_ZF = np.zeros(len(Mv));\n",
        "\n",
        "beta = MIMO.Dmatrix(K); # Models the large scale fading of the channel gives a log normal RV\n",
        "sqrtD = np.diag(np.sqrt(beta));\n",
        "\n",
        "for it in range(ITER):\n",
        "  # print(it)\n",
        "  for mx in range(len(Mv)):\n",
        "    M = Mv[mx]\n",
        "    #pu = Eu # no power scaling\n",
        "    pu = Eu/M # power scaling\n",
        "    H = (nr.normal(0, 1,(M,K)) + 1j*nr.normal(0, 1, (M,K)))/np.sqrt(2)\n",
        "    G = np.matmul(H,sqrtD)  # Contains both H info and Beta info. MxK matrix\n",
        "    g0 = G[:,0]; # column user 0\n",
        "    MRCbf = g0/nl.norm(g0)   # beamforming vector\n",
        "    nr_MRC = pu*nl.norm(g0)**2   # numerator of the SINR\n",
        "    nr_bound_MRC = pu*M*beta[0]\n",
        "    dr_bound_MRC = 1\n",
        "    mu_int = np.matmul(MIMO.H(MRCbf), G[:,1:])  # multi user interference of all the other channels except 0\n",
        "    dr_MRC = 1 + pu * nl.norm(mu_int)**2  # noise power and the interference power\n",
        "    dr_bound_MRC = dr_bound_MRC + pu*np.sum(beta[1:])\n",
        "    rate_MRC[mx] = rate_MRC[mx] + np.log2(1 + nr_MRC/dr_MRC)  # calculating the capacity bits/sec/Hz\n",
        "    bound_MRC[mx] = bound_MRC[mx] + np.log2(1 + nr_bound_MRC/dr_bound_MRC)\n",
        "\n",
        "    GG = np.matmul(MIMO.H(G),G)\n",
        "    nr_ZF = pu\n",
        "    invGG = nl.inv(GG)\n",
        "    dr_ZF = np.real(invGG[0,0])\n",
        "    rate_ZF[mx] = rate_ZF[mx] + np.log2(1+nr_ZF/dr_ZF)\n",
        "\n",
        "\n",
        "\n",
        "rate_MRC = rate_MRC/ITER;\n",
        "bound_MRC = bound_MRC/ITER;\n",
        "rate_ZF = rate_ZF/ITER;\n",
        "\n",
        "\n",
        "plt.plot(Mv, rate_MRC,'g-');\n",
        "plt.plot(Mv, bound_MRC,'rs');\n",
        "plt.plot(Mv, rate_ZF,'b^-');\n",
        "plt.grid(1,which='both')\n",
        "plt.legend([\"MRC\", \"MRC Bound\", \"ZF\"], loc =\"lower right\");\n",
        "plt.suptitle('Rate for MRC and ZF Receivers')\n",
        "plt.ylabel('Rate')\n",
        "plt.xlabel('Number of antennas M')\n"
      ],
      "metadata": {
        "colab": {
          "base_uri": "https://localhost:8080/",
          "height": 325
        },
        "id": "t7dRYdmtREuE",
        "outputId": "7bc47c08-3448-427c-fbbc-dc9d9cf62e46"
      },
      "execution_count": null,
      "outputs": [
        {
          "output_type": "execute_result",
          "data": {
            "text/plain": [
              "Text(0.5, 0, 'Number of antennas M')"
            ]
          },
          "metadata": {},
          "execution_count": 9
        },
        {
          "output_type": "display_data",
          "data": {
            "text/plain": [
              "<Figure size 432x288 with 1 Axes>"
            ],
            "image/png": "[encoded data removed]"
          },
          "metadata": {
            "needs_background": "light"
          }
        }
      ]
    },
    {
      "cell_type": "markdown",
      "source": [
        "Without Power scaling"
      ],
      "metadata": {
        "id": "ZD_s63J96BKB"
      }
    },
    {
      "cell_type": "code",
      "source": [
        "plt.plot(Mv, rate_MRC,'g-');\n",
        "plt.plot(Mv, bound_MRC,'rs');\n",
        "plt.plot(Mv, rate_ZF,'b^-');\n",
        "plt.grid(1,which='both')\n",
        "plt.legend([\"MRC\", \"MRC Bound\", \"ZF\"], loc =\"lower right\");\n",
        "plt.suptitle('Rate for MRC and ZF Receivers')\n",
        "plt.ylabel('Rate')\n",
        "plt.xlabel('Number of antennas M')"
      ],
      "metadata": {
        "colab": {
          "base_uri": "https://localhost:8080/",
          "height": 325
        },
        "id": "0r9gz9yekV8Q",
        "outputId": "78e6abd0-753f-44f0-bbbc-92b64002b1f3"
      },
      "execution_count": null,
      "outputs": [
        {
          "output_type": "execute_result",
          "data": {
            "text/plain": [
              "Text(0.5, 0, 'Number of antennas M')"
            ]
          },
          "metadata": {},
          "execution_count": 5
        },
        {
          "output_type": "display_data",
          "data": {
            "text/plain": [
              "<Figure size 432x288 with 1 Axes>"
            ],
            "image/png": "[encoded data removed]"
          },
          "metadata": {
            "needs_background": "light"
          }
        }
      ]
    },
    {
      "cell_type": "markdown",
      "source": [
        "# Project 9: Plotting the rate of a user (UL rate) when the BS has imperfect knowledge of channel(i.e. the channel is estimated)"
      ],
      "metadata": {
        "id": "2yzOfr7zasKf"
      }
    },
    {
      "cell_type": "code",
      "source": [
        "import numpy as np\n",
        "import numpy.linalg as nl\n",
        "import numpy.random as nr\n",
        "import matplotlib.pyplot as plt\n",
        "import MIMO\n",
        "\n",
        "ITER = 2000;\n",
        "K = 10; # number of users\n",
        "Mv = np.arange(20,1000,60); # number of BS antennas\n",
        "Eu_dB = 10;  Eu = 10**(Eu_dB/10);\n",
        "rate_MRC = np.zeros(len(Mv)) ;\n",
        "bound_MRC = np.zeros(len(Mv));\n",
        "rate_ZF = np.zeros(len(Mv));\n",
        "\n",
        "beta = MIMO.Dmatrix(K);        # large scale fading coefficients\n",
        "sqrtD = np.diag(np.sqrt(beta));\n",
        "\n",
        "dftmtx = MIMO.DFTmat(K);\n",
        "\n",
        "for it in range(ITER):\n",
        "  # print(it)\n",
        "  for mx in range(len(Mv)):\n",
        "    M = Mv[mx]\n",
        "    # pu = Eu # no power scaling\n",
        "    # pu = Eu/M # power scaling\n",
        "    pu = Eu/np.sqrt(M) # modified powerscaling\n",
        "    Pp = K*pu\n",
        "    H = (nr.normal(size = (M,K)) + 1j * nr.normal(size = (M,K)))/np.sqrt(2)\n",
        "    G = np.matmul(H,sqrtD)  # Contains both H info and Beta info. MxK matrix\n",
        "    g0 = G[:,0] # column of user 0\n",
        "    Phi = np.sqrt(1/K)*dftmtx # Pilot Matrix\n",
        "    N = (nr.normal(size = (M,K)) + 1j * nr.normal(size = (M,K)))/np.sqrt(2)\n",
        "    RxBlk = np.sqrt(Pp)*np.matmul(G,Phi) + N # Pilot Output\n",
        "    Ghat = np.sqrt(1/Pp)*np.matmul(RxBlk, MIMO.H(Phi)) # Channel Estimation\n",
        "    g0hat = Ghat[:,0];\n",
        "    e0 = g0hat - g0 # Channel estimation error\n",
        "    nr_MRC = pu*nl.norm(g0)**2\n",
        "    nr_bound_MRC = pu*M*beta[0]\n",
        "    dr_bound_MRC = 1/K + (beta[0] + 1/K/pu)/beta[0]\n",
        "    g0norm = g0/nl.norm(g0)\n",
        "    g0hat_norm = g0hat/nl.norm(g0) # should the den be g0hat\n",
        "    CSIint = np.matmul(MIMO.H(g0norm),e0)\n",
        "    CSIint = pu*np.abs(CSIint)**2 # calculating the power due to channel interference error\n",
        "    nint = nl.norm(g0hat)**2/nl.norm(g0)**2\n",
        "    dr_MRC = CSIint + nint\n",
        "    dr_bound_MRC = dr_bound_MRC + pu*np.sum((beta[0]+1/K/pu)*beta[1:]/beta[0])\n",
        "    MUint = np.matmul(MIMO.H(g0hat_norm),G[:,1:])\n",
        "    dr_MRC = dr_MRC + pu*nl.norm(MUint)**2\n",
        "    rate_MRC[mx] = rate_MRC[mx] + np.log2(1 + nr_MRC/dr_MRC)\n",
        "    bound_MRC[mx] += np.log2(1+nr_bound_MRC/dr_bound_MRC)  # Note this is the theoretical lower bound\n",
        "\n",
        "\n",
        "\n",
        "rate_MRC = rate_MRC/ITER;\n",
        "bound_MRC = bound_MRC/ITER;\n",
        "\n",
        "\n",
        "plt.plot(Mv, rate_MRC,'g-');\n",
        "plt.plot(Mv, bound_MRC,'rs');\n",
        "plt.grid(1,which='both')\n",
        "x1,x2,y1,y2 = plt.axis()\n",
        "plt.axis((x1,x2,0.1*y1,2*y2))\n",
        "plt.legend([\"MRC\", \"MRC Bound\"], loc =\"upper left\");\n",
        "plt.suptitle('SINR for MRC with CSI Estimation')\n",
        "plt.ylabel('Rate')\n",
        "plt.xlabel('Number of antennas M')"
      ],
      "metadata": {
        "id": "L7CLqJFaauyf",
        "colab": {
          "base_uri": "https://localhost:8080/",
          "height": 325
        },
        "outputId": "06faca32-7002-465b-ac9b-9b31e1fe165c"
      },
      "execution_count": null,
      "outputs": [
        {
          "output_type": "execute_result",
          "data": {
            "text/plain": [
              "Text(0.5, 0, 'Number of antennas M')"
            ]
          },
          "metadata": {},
          "execution_count": 11
        },
        {
          "output_type": "display_data",
          "data": {
            "text/plain": [
              "<Figure size 432x288 with 1 Axes>"
            ],
            "image/png": "[encoded data removed]"
          },
          "metadata": {
            "needs_background": "light"
          }
        }
      ]
    },
    {
      "cell_type": "markdown",
      "source": [
        "#Project 11 Spatial Modulation"
      ],
      "metadata": {
        "id": "M36AH5mM3Cvz"
      }
    },
    {
      "cell_type": "code",
      "source": [
        "import matplotlib.pyplot as plt\n",
        "import numpy as np\n",
        "import numpy.random as nr\n",
        "import numpy.matlib as nm\n",
        "\n",
        "SNRdB = np.arange(0,11,2);\n",
        "ITER = 100000;\n",
        "Nt = 4;\n",
        "Nr = 4;\n",
        "M = 2; # BPSK Modulation\n",
        "bpcu = np.log2(M*Nt);\n",
        "BERopt = np.zeros(len(SNRdB));\n",
        "for ite in range(ITER):\n",
        "  isym = nr.randint(2**bpcu)\n",
        "  antIndex = isym % 4\n",
        "  sym = 2 * (isym > 3) - 1\n",
        "  H = 1/np.sqrt(2)*(nr.normal(0,1,(Nr,Nt)) + 1j*nr.normal(0,1,(Nr,Nt)))\n",
        "  RxNoise = 1/np.sqrt(2)*(nr.normal(0,1,(Nr,1)) + 1j*nr.normal(0,1,(Nr,1)))\n",
        "  for K in range(len(SNRdB)):\n",
        "    rho = 10**(SNRdB[K]/10)\n",
        "    RxVec = np.sqrt(rho)*H[:,antIndex:antIndex+1] * sym +RxNoise\n",
        "\n",
        "    # Optimal detector\n",
        "    MLobj = np.sum(np.absolute(np.sqrt(rho)*np.concatenate((-H,H),axis=1) - nm.repmat(RxVec, 1, 2*Nt))**2,axis=0)\n",
        "    decIndex = np.argmin(MLobj)\n",
        "    BERopt[K] = BERopt[K] + (decIndex != isym)\n",
        "\n",
        "BERopt = BERopt/(bpcu*ITER);\n",
        "\n",
        "plt.yscale('log')\n",
        "plt.plot(SNRdB, BERopt,'gs-');\n",
        "plt.grid(1,which='both')\n",
        "plt.suptitle('BER for SM')\n",
        "plt.xlabel('SNR (dB)')\n",
        "plt.ylabel('BER')"
      ],
      "metadata": {
        "colab": {
          "base_uri": "https://localhost:8080/",
          "height": 325
        },
        "id": "7xiTOy8z3WdF",
        "outputId": "d3f532bc-c28d-46a5-a251-88616b512383"
      },
      "execution_count": null,
      "outputs": [
        {
          "output_type": "execute_result",
          "data": {
            "text/plain": [
              "Text(0, 0.5, 'BER')"
            ]
          },
          "metadata": {},
          "execution_count": 4
        },
        {
          "output_type": "display_data",
          "data": {
            "text/plain": [
              "<Figure size 432x288 with 1 Axes>"
            ],
            "image/png": "[encoded data removed]"
          },
          "metadata": {
            "needs_background": "light"
          }
        }
      ]
    },
    {
      "cell_type": "markdown",
      "source": [
        "#Project 13: Space Shift Keying"
      ],
      "metadata": {
        "id": "y2jxmphJ8J7j"
      }
    },
    {
      "cell_type": "code",
      "source": [
        "import matplotlib.pyplot as plt\n",
        "import numpy as np\n",
        "import numpy.random as nr\n",
        "import numpy.matlib as nm\n",
        "\n",
        "SNRdB = np.arange(0,11,2);\n",
        "ITER = 100000;\n",
        "Nt = 4;\n",
        "Nr = 4;\n",
        "bpcu = np.log2(Nt);\n",
        "BERopt = np.zeros(len(SNRdB));\n",
        "\n",
        "for ite in range(ITER):\n",
        "  antIndex = nr.randint(2**bpcu)\n",
        "  H = 1/np.sqrt(2)*(nr.normal(0,1,(Nr,Nt)) + 1j*nr.normal(0,1,(Nr,Nt)))\n",
        "  RxNoise = 1/np.sqrt(2)*(nr.normal(0,1,(Nr,1)) + 1j*nr.normal(0,1,(Nr,1)))\n",
        "  for K in range(len(SNRdB)):\n",
        "    rho = 10**(SNRdB[K]/10)\n",
        "    RxVec = np.sqrt(rho)*H[:,antIndex:antIndex+1] + RxNoise\n",
        "\n",
        "    # Optimal detector\n",
        "    MLobj = np.sum(np.absolute(np.sqrt(rho)*H - nm.repmat(RxVec, 1, Nt))**2,axis=0)\n",
        "    decIndex = np.argmin(MLobj)\n",
        "    BERopt[K] = BERopt[K] + (decIndex != antIndex)\n",
        "\n",
        "\n",
        "BERopt = BERopt/(bpcu*ITER);\n",
        "\n",
        "plt.yscale('log')\n",
        "plt.plot(SNRdB, BERopt,'go-');\n",
        "plt.grid(1,which='both')\n",
        "plt.suptitle('BER for SSK')\n",
        "plt.xlabel('SNR (dB)')\n",
        "plt.ylabel('BER')"
      ],
      "metadata": {
        "colab": {
          "base_uri": "https://localhost:8080/",
          "height": 325
        },
        "id": "m02HeejW8O1r",
        "outputId": "d0cb895d-c2a5-4206-fcd1-779901e61f41"
      },
      "execution_count": null,
      "outputs": [
        {
          "output_type": "execute_result",
          "data": {
            "text/plain": [
              "Text(0, 0.5, 'BER')"
            ]
          },
          "metadata": {},
          "execution_count": 1
        },
        {
          "output_type": "display_data",
          "data": {
            "text/plain": [
              "<Figure size 432x288 with 1 Axes>"
            ],
            "image/png": "[encoded data removed]"
          },
          "metadata": {
            "needs_background": "light"
          }
        }
      ]
    },
    {
      "cell_type": "code",
      "source": [
        "print(antIndex)\n",
        "print(H)\n",
        "print(H[:,antIndex:antIndex+1])"
      ],
      "metadata": {
        "colab": {
          "base_uri": "https://localhost:8080/"
        },
        "id": "tCSbNYPJIjuM",
        "outputId": "f2ea36e6-37ed-4f2f-a6f5-8d1ed046ff2f"
      },
      "execution_count": null,
      "outputs": [
        {
          "output_type": "stream",
          "name": "stdout",
          "text": [
            "1\n",
            "[[-0.87899386+0.17141305j  0.70514466-0.93251529j  0.52559402-0.22096088j\n",
            "  -1.20757375+0.20012873j]\n",
            " [-0.52152441-0.51006908j  0.10975239-0.9750905j   0.55925863-0.11845894j\n",
            "   0.49027241+1.23825727j]\n",
            " [ 0.97707545-0.59815029j  1.72633855-1.24352339j -0.9131328 -0.23404121j\n",
            "  -0.0886128 -0.76893363j]\n",
            " [-0.06630371+0.69811664j -0.01415723-1.53438727j -0.54800199-0.49452915j\n",
            "   0.76755097+0.18413598j]]\n",
            "[[ 0.70514466-0.93251529j]\n",
            " [ 0.10975239-0.9750905j ]\n",
            " [ 1.72633855-1.24352339j]\n",
            " [-0.01415723-1.53438727j]]\n"
          ]
        }
      ]
    },
    {
      "cell_type": "markdown",
      "source": [
        "#Project 15: mmWave MIMO channel estimation using OMP algorithm for sparse vector estimation"
      ],
      "metadata": {
        "id": "XEYfXXPtKN6H"
      }
    },
    {
      "cell_type": "code",
      "source": [
        "import numpy as np\n",
        "import numpy.random as nr\n",
        "import numpy.linalg as nl\n",
        "import matplotlib.pyplot as plt\n",
        "import MIMO\n",
        "\n",
        "t = 32; r = 32;\n",
        "numRF = 8;\n",
        "N_Beam = 24;       # This denotes the number of Pilot symbols For mmWave this is much smaller the t\n",
        "G = 32;         # G represents the number of Angular beams (Grid Size) for efficient channel estimation G> r,t\n",
        "ITER = 10;\n",
        "L = 5;       # Sparsity level OR no. of multipaths\n",
        "\n",
        "omp_thrld = 10;     # OMP threshold\n",
        "SNRdB = np.arange(10,55,10);\n",
        "SNR = 10**(SNRdB/10);\n",
        "mseOMP = np.zeros(len(SNRdB));\n",
        "mseGenie = np.zeros(len(SNRdB));\n",
        "\n",
        "A_T = MIMO.ArrayDictionary(G,t);  # Transmit Array response Vector (size txG)\n",
        "A_R = MIMO.ArrayDictionary(G,r);  # Receive Array response vector (size rxG)\n",
        "\n",
        "FRF,FBB = MIMO.RF_BB_matrices(t,numRF,N_Beam);    # Baseband and RF Precoders\n",
        "WRF,WBB = MIMO.RF_BB_matrices(r,numRF,N_Beam);    # Baseband and RF Combiners\n",
        "Qtil = np.kron(np.matmul(np.transpose(FBB),np.transpose(FRF)),np.matmul(MIMO.H(WBB),MIMO.H(WRF))); # Q_tilde Kronecker Product without the pilot power\n",
        "\n",
        "for ix in range(ITER):\n",
        "  #print(ix)\n",
        "\n",
        "  alpha , Psi, A_R_genie, A_T_genie = MIMO.mmWaveMIMOChannelGenerator(A_R,A_T,G,L) # alpha is gain, Psi is the dictionary when everything is known\n",
        "  H = np.sqrt(t*r/L)*nl.multi_dot([A_R_genie,np.diag(alpha),MIMO.H(A_T_genie)])   # Channel Matrix\n",
        "\n",
        "  ChNoise = 1/np.sqrt(t*r/L)*(nr.normal(0,1,(N_Beam,N_Beam)) + 1j*nr.normal(0,1,(N_Beam,N_Beam)))  # Channel noise of dimension N_BeamxN_Beam\n",
        "  for cx in range(len(SNRdB)):                                                          # Iterating over all SNR\n",
        "    Yrec = np.sqrt(SNR[cx])*nl.multi_dot([MIMO.H(WBB),MIMO.H(WRF),H,FRF,FBB]) + ChNoise     # Receive vector with known Pilot\n",
        "    y = np.reshape(Yrec,(N_Beam*N_Beam,1),order = 'F')                          # Vectorising Y, stacking all columns of Y one over other. order=F =>\n",
        "\n",
        "    Q = np.sqrt(SNR[cx])*np.matmul(Qtil,np.kron(np.conj(A_T),A_R))   # Compressed sensing matrix generated using the G vectors dictionaries\n",
        "    hb_OMP = MIMO.OMP(y,Q,omp_thrld)     # beamspace sparse channel vector estimated\n",
        "    H_OMP = nl.multi_dot([A_R,np.reshape(hb_OMP,(G,G),order='F'),MIMO.H(A_T)])    # H_OMP estimated channel matrix with size rxt\n",
        "    mseOMP[cx] = mseOMP[cx] + nl.norm(H - H_OMP)**2/(t*r)            # Calculating mean squared error or channel estimation error H is true Channel matrix vs H_OMP which is the est. Channel Matrix\n",
        "\n",
        "    Qbar = np.sqrt(SNR[cx])*np.matmul(Qtil,Psi)    # Compressed sensing matrix generated using the Dictionary where the angle of arrival and departure are known\n",
        "    alphaEst = np.matmul(nl.pinv(Qbar),y)          # Performing the least squares estimate\n",
        "    H_Genie = nl.multi_dot([A_R_genie, np.diag(alphaEst.flatten()),MIMO.H(A_T_genie)])  # 5x1 or 6x1 is considered as a matrix so diag will give just one element but we want it to be an array of 5 and give diag of 5x5 so flatten\n",
        "    mseGenie[cx] = mseGenie[cx] + nl.norm(H - H_Genie)**2/(t*r)\n",
        "\n",
        "\n",
        "\n",
        "mseOMP = mseOMP/ITER;\n",
        "mseGenie = mseGenie/ITER;\n",
        "\n",
        "plt.yscale('log')\n",
        "plt.plot(SNRdB, mseOMP,'r-s');\n",
        "plt.plot(SNRdB, mseGenie,'b^-.');\n",
        "plt.grid(1,which='both')\n",
        "plt.legend([\"OMP\", \"Genie\"], loc =\"lower left\");\n",
        "plt.suptitle('NMSE Comparision mmWave MIMO Channel Estimation')\n",
        "plt.ylabel('NMSE')\n",
        "plt.xlabel('SNRdB')\n"
      ],
      "metadata": {
        "colab": {
          "base_uri": "https://localhost:8080/",
          "height": 325
        },
        "id": "rwd2ynAkKZb3",
        "outputId": "590c1b7b-bb77-437b-b5cc-7134d32c9441"
      },
      "execution_count": null,
      "outputs": [
        {
          "output_type": "execute_result",
          "data": {
            "text/plain": [
              "Text(0.5, 0, 'SNRdB')"
            ]
          },
          "metadata": {},
          "execution_count": 7
        },
        {
          "output_type": "display_data",
          "data": {
            "text/plain": [
              "<Figure size 432x288 with 1 Axes>"
            ],
            "image/png": "[encoded data removed]"
          },
          "metadata": {
            "needs_background": "light"
          }
        }
      ]
    },
    {
      "cell_type": "markdown",
      "source": [
        "#Project 17 mmWave MIMO Precoder and Combiner Design. Comparing Hybrid (SOMP) and Optimal Designs"
      ],
      "metadata": {
        "id": "4Bjh-KF991IC"
      }
    },
    {
      "cell_type": "code",
      "source": [
        "import numpy as np\n",
        "import numpy.random as nr\n",
        "import numpy.linalg as nl\n",
        "import matplotlib.pyplot as plt\n",
        "import MIMO\n",
        "\n",
        "# simulation parameters\n",
        "t = 32; r = 32;\n",
        "numRF = 6;\n",
        "G = 64;\n",
        "L = 8;\n",
        "Ns = 6;\n",
        "ITER = 100;\n",
        "\n",
        "# Initializations\n",
        "SNRdB = np.arange(-5,6,1);\n",
        "C_HYB = np.zeros(len(SNRdB));\n",
        "C_MIMO = np.zeros(len(SNRdB));\n",
        "\n",
        "# G-quantized Txarray response matrix\n",
        "A_T = MIMO.ArrayDictionary(G,t);\n",
        "A_R = MIMO.ArrayDictionary(G,r);\n",
        "\n",
        "for ix in range(ITER):\n",
        "    # print(ix);\n",
        "\n",
        "    # Channel generation\n",
        "    tax = np.random.choice(G, L, replace=False);\n",
        "    rax = np.random.choice(G, L, replace=False);\n",
        "    chGain = 1/np.sqrt(2)*(nr.normal(0,1,L)+1j*nr.normal(0,1,L));\n",
        "    A_T_genie = A_T[:, tax];\n",
        "    A_R_genie = A_R[:, rax];\n",
        "    H = np.sqrt(t*r/L)*nl.multi_dot([A_R_genie,np.diag(chGain),MIMO.H(A_T_genie)]);\n",
        "\n",
        "    U, S, VH = nl.svd(H, full_matrices=True)\n",
        "\n",
        "    V = MIMO.H(VH)\n",
        "    Fopt = V[:,0:Ns]\n",
        "    FBB, FRF = MIMO.SOMP(Fopt, A_T, np.identity(t), numRF)\n",
        "    FBB_NORM = FBB*np.sqrt(Ns)/nl.norm(np.matmul(FRF,FBB))\n",
        "    for cx in range(len(SNRdB)):\n",
        "      npow = 10**(-SNRdB[cx]/10)\n",
        "      mmseINV = nl.inv(MIMO.AHA(np.matmul(H,Fopt)) + npow*Ns*np.identity(Ns))\n",
        "      Wmmse_opt = nl.multi_dot([H,Fopt,mmseINV])\n",
        "      C_MIMO[cx] = C_MIMO[cx] + \\\n",
        "      MIMO.mimo_capacity(nl.multi_dot([MIMO.H(Wmmse_opt),H,Fopt]), 1/Ns*np.identity(Ns), npow*MIMO.AHA(Wmmse_opt))\n",
        "      HFp = nl.multi_dot([H,FRF,FBB_NORM])\n",
        "      Ryy = 1/Ns*MIMO.AAH(HFp) + npow*np.identity(r)\n",
        "      Wmmse_Hyb = np.matmul(HFp, nl.inv(MIMO.AHA(HFp) + npow*Ns*np.identity(Ns)))\n",
        "      WBB, WRF = MIMO.SOMP(Wmmse_Hyb, A_R, Ryy, numRF)\n",
        "      C_HYB[cx] = C_HYB[cx] + \\\n",
        "      MIMO.mimo_capacity(nl.multi_dot([MIMO.H(WBB),MIMO.H(WRF),H,FRF,FBB_NORM]), 1/Ns*np.identity(Ns), npow*MIMO.AHA(np.matmul(WRF,WBB)))\n",
        "\n",
        "\n",
        "C_MIMO = C_MIMO/ITER; C_HYB = C_HYB/ITER;\n",
        "plt.plot(SNRdB, C_MIMO,'r-s');\n",
        "plt.plot(SNRdB, C_HYB,'b^-.');\n",
        "plt.grid(1,which='both')\n",
        "plt.legend([\"Ideal Digital\", \"Hybrid Precoder\"], loc =\"lower right\");\n",
        "plt.suptitle('Capacity vs SNR for mmWave MIMO')\n",
        "plt.ylabel('Capacity (b/s/Hz)')\n",
        "plt.xlabel('SNRdB')"
      ],
      "metadata": {
        "colab": {
          "base_uri": "https://localhost:8080/",
          "height": 325
        },
        "id": "PvN7_odA91ma",
        "outputId": "a4796470-1370-4ed6-cf88-1b57a49b9dbf"
      },
      "execution_count": null,
      "outputs": [
        {
          "output_type": "execute_result",
          "data": {
            "text/plain": [
              "Text(0.5, 0, 'SNRdB')"
            ]
          },
          "metadata": {},
          "execution_count": 6
        },
        {
          "output_type": "display_data",
          "data": {
            "text/plain": [
              "<Figure size 432x288 with 1 Axes>"
            ],
            "image/png": "[encoded data removed]"
          },
          "metadata": {
            "needs_background": "light"
          }
        }
      ]
    }
  ]
}